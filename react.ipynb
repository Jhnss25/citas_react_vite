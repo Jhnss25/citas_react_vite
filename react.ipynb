{
 "cells": [
  {
   "cell_type": "markdown",
   "metadata": {},
   "source": [
    "# JSX (JavaScript Syntax Extensión)\n",
    "\n",
    "Es una extensión del lenguaje desarrollada por Facebook para React.\n",
    "\n",
    "Básicamente es un lenguaje de Template que muestra el HTML pero tiene todas las funciones de JavaScript.\n",
    "\n",
    "Una vez compilado pasan a ser archivos con funciones y objetos.\n",
    "\n",
    "\n",
    "## Reglas en JSX\n",
    "\n",
    "- Todas las etiquetas de solo apertura deberán finalizar con />\n",
    "- Cada componente debe tener un return \n",
    "- En este return debe haber máximo un solo elemento en el nivel más alto\n"
   ]
  },
  {
   "cell_type": "code",
   "execution_count": null,
   "metadata": {
    "vscode": {
     "languageId": "javascriptreact"
    }
   },
   "outputs": [],
   "source": [
    "import { useState } from \"react\";\n",
    "\n",
    "function App() {\n",
    "  return (\n",
    "    <> {/* Esto se conoce como un fragme <></> */}\n",
    "      <h1>{\"Hola Mundo\".toUpperCase()}</h1>\n",
    "      <input type=\"text\" />\n",
    "    </>\n",
    "  );\n",
    "}\n",
    "\n",
    "export default App;\n"
   ]
  },
  {
   "cell_type": "markdown",
   "metadata": {},
   "source": [
    "## Instalar Tailwindcss\n",
    "\n",
    "- npm i D tailwindcss postcss autoprefixer\n",
    "- npx tailwindcss init -p\n",
    "  - Nos crea 2 archivos de configuración\n",
    "\n",
    "- Agregar al index.css \n",
    "  ```css\n",
    "    @tailwind base;\n",
    "    @tailwind components;\n",
    "    @tailwind utilities;\n",
    "  ```\n",
    "\n",
    "- tailwind.config.js\n",
    "```js\n",
    "  /** @type {import('tailwindcss').Config} */\n",
    "  export default {\n",
    "    /* Aquí se pone en donde quieres tener los estilos y componentes */\n",
    "    content: [\"./index.html\", \"./src/**/*.jsx\"],\n",
    "    theme: {\n",
    "      extend: {},\n",
    "    },\n",
    "    plugins: [],\n",
    "  }\n",
    "```"
   ]
  },
  {
   "cell_type": "markdown",
   "metadata": {},
   "source": [
    "## Qué es el State O Estado en React?\n",
    "\n",
    "El State o Estado es básicamente eso; cuál es el estado de nuestra aplicación.\n",
    "\n",
    "El Estado es una variable con información relevante en nuestra aplicación de React, algunas veces el state pertenece a un componente en especifíco o algunas veces deseas compartirlo a lo largo de diferentes componentes.\n",
    "\n",
    "Es State es creado con la función useState()"
   ]
  },
  {
   "cell_type": "code",
   "execution_count": null,
   "metadata": {
    "vscode": {
     "languageId": "javascriptreact"
    }
   },
   "outputs": [],
   "source": [
    "import { useState } from \"react\";\n",
    "\n",
    "// Siempre debe ser declarado en la parte superior del componente\n",
    "// cliente .- Es la variable que contiene el valor del estado\n",
    "// setCliente .- Es la función que va a modificar esa variable de cliente.\n",
    "// useState({}) .- Valor inicial, inicia con un objeto vacío\n",
    "const [cliente, setCliente] = useState({});\n",
    "\n",
    "// Puedes tener varios estados y puede agregarle cualquier valor\n",
    "const [total, setTotal] = useState(0);"
   ]
  },
  {
   "cell_type": "markdown",
   "metadata": {},
   "source": [
    "**React reacciona** en base al State\n",
    "\n",
    "Cada que tu state cambia, tu aplicación de React va a renderizar y actualizarse con esos cambios.\n",
    "\n",
    "Para modificar se usa la funcion **set**."
   ]
  },
  {
   "cell_type": "markdown",
   "metadata": {},
   "source": [
    "## Reglas de los Hooks\n",
    "\n",
    "- Los Hooks se colocan en la parte superior de tus componentes de React, deben ir antes de las funciones o cualquier código.\n",
    "- No se deben colocar dentro de condicionales, tampoco después de un return.\n"
   ]
  },
  {
   "cell_type": "markdown",
   "metadata": {},
   "source": [
    "## Eventos\n",
    "\n",
    "### Sobre los Eventos **En React**\n",
    "\n",
    "- La forma en como React maneja los eventos es muy similar a como lo hace JavaScript de forma nativa con algunos cambios.\n",
    "- Los eventos son **camelCase**, es decir en lugar de onchange se utiliza **onChange**.\n",
    "- Todos los eventos que estan disponibles en JavaScript estan en React\n",
    "- También a diferencia de JS y HTML, donde se coloca el nombre de la función en un string en React(jsx) se utiliza la función.\n",
    "\n",
    "```jsx\n",
    "  <button onClick={descargarPedidos()}>\n",
    "    Descargar Pedidos\n",
    "  </button>\n",
    "```"
   ]
  },
  {
   "cell_type": "markdown",
   "metadata": {},
   "source": [
    "## Props en React\n",
    "\n",
    "Es una forma de pasar  variables o funciones de un componente a otro.\n",
    "\n",
    "### Qué son los **Props o Propiedades**?\n",
    "\n",
    "El State o Funciones que crees en tus componentes, solo estarán disponibles en ese componente. Y para pasar a otros componentes, se usa los props.\n",
    "\n",
    "Una forma de evitar duplicar código y reutilizar esas variables, state o estado y funciones en otros componentes es por medio de Props o Propiedades.\n",
    "\n",
    "Los Props se pasan del padre al hijo, nunca se pueden pasar del hijo al padre.\n",
    "\n",
    "Si tienes un state que se va a pasar por diferentes componentes, lo mejot es colocarlo en el archivo principal. Cada nivel de Componentes deberá tomar y pasar el Prop hacia otros componentes, tecnologías como Redux o Context evitan tener que hacerlo de esta forma.\n",
    "\n",
    "### Sintaxis\n",
    "\n",
    "Se puede pasar todo tipos de datos\n",
    "\n",
    "```jsx\n",
    "  <Header \n",
    "    nombreProp={ datos o funciones }\n",
    "  />\n",
    "```\n"
   ]
  }
 ],
 "metadata": {
  "language_info": {
   "name": "python"
  },
  "orig_nbformat": 4
 },
 "nbformat": 4,
 "nbformat_minor": 2
}
